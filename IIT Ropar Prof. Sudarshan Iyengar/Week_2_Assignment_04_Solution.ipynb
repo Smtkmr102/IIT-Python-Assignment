{
  "nbformat": 4,
  "nbformat_minor": 0,
  "metadata": {
    "colab": {
      "provenance": []
    },
    "kernelspec": {
      "name": "python3",
      "display_name": "Python 3"
    },
    "language_info": {
      "name": "python"
    }
  },
  "cells": [
    {
      "cell_type": "markdown",
      "source": [
        "**Week 2 Assignment 04**"
      ],
      "metadata": {
        "id": "_Y3TuM41z1hC"
      }
    },
    {
      "cell_type": "code",
      "source": [
        "x,y=input().split(\" \")\n",
        "x=int(x)\n",
        "y=int(y)\n",
        "if x>y:\n",
        "  print(y)\n",
        "else:\n",
        "  print(x)"
      ],
      "metadata": {
        "colab": {
          "base_uri": "https://localhost:8080/"
        },
        "id": "NmOaRfcYz0oc",
        "outputId": "45cc99f0-b07e-422c-a17a-f7b449ddce66"
      },
      "execution_count": null,
      "outputs": [
        {
          "output_type": "stream",
          "name": "stdout",
          "text": [
            "100 0\n",
            "0\n"
          ]
        }
      ]
    }
  ]
}