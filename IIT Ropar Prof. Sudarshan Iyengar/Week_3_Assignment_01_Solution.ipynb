{
  "nbformat": 4,
  "nbformat_minor": 0,
  "metadata": {
    "colab": {
      "provenance": []
    },
    "kernelspec": {
      "name": "python3",
      "display_name": "Python 3"
    },
    "language_info": {
      "name": "python"
    }
  },
  "cells": [
    {
      "cell_type": "markdown",
      "source": [
        "**Week 3 Assignment 01**"
      ],
      "metadata": {
        "id": "W8JQlNEK0kQB"
      }
    },
    {
      "cell_type": "code",
      "source": [
        "# solution 1\n",
        "a=int(input(\"Enter the value of a \"))\n",
        "b=int(input(\"Enter the value of b \"))\n",
        "for i in range (1,101):\n",
        "  if (i%a==0):\n",
        "    print(\"fizz\")\n",
        "  if (i%b==0):\n",
        "    print(\"buzz\")\n",
        "  else:\n",
        "    print(\"fizzbuzz\")\n",
        "# wrong option"
      ],
      "metadata": {
        "id": "vDaMkxVP0jtI"
      },
      "execution_count": null,
      "outputs": []
    },
    {
      "cell_type": "code",
      "source": [
        "a=int(input(\"Enter the value of a \"))\n",
        "b=int(input(\"Enter the value of b \"))\n",
        "for i in range (1,101):\n",
        "  if (i%a==0):\n",
        "    if(i%b!=0):\n",
        "      print(\"fizz\")\n",
        "  if (i%b==0):\n",
        "    if(i%a!=0):\n",
        "      print(\"buzz\")\n",
        "    else:\n",
        "      print(\"fizzbuzz\")\n",
        "# correction option"
      ],
      "metadata": {
        "colab": {
          "base_uri": "https://localhost:8080/"
        },
        "id": "f6aerK392rFb",
        "outputId": "69268d3f-a30f-499e-e2c5-902329c58981"
      },
      "execution_count": null,
      "outputs": [
        {
          "output_type": "stream",
          "name": "stdout",
          "text": [
            "Enter the value of a 25\n",
            "Enter the value of b 50\n",
            "fizz\n",
            "fizzbuzz\n",
            "fizz\n",
            "fizzbuzz\n"
          ]
        }
      ]
    },
    {
      "cell_type": "code",
      "source": [
        "a=int(input(\"Enter the value of a \"))\n",
        "b=int(input(\"Enter the value of b \"))\n",
        "for i in range (1,101):\n",
        "  if (i%a==0):\n",
        "    if(i%b!=0):\n",
        "      print(\"fizz\")\n",
        "  if (i%b==0):\n",
        "    if(i%a!=0):\n",
        "      print(\"buzz\")\n",
        "  else:\n",
        "    print(\"fizzbuzz\")\n",
        "# wrong option"
      ],
      "metadata": {
        "id": "w4AYnlAF4ObU"
      },
      "execution_count": null,
      "outputs": []
    },
    {
      "cell_type": "code",
      "source": [
        "a=int(input(\"Enter the value of a \"))\n",
        "b=int(input(\"Enter the value of b \"))\n",
        "for i in range (1,101):\n",
        "  if (i%a==0):\n",
        "    if(i%b!=0):\n",
        "      print(\"fizz\")\n",
        "  else:\n",
        "    if (i%b==0):\n",
        "      if(i%a!=0):\n",
        "        print(\"buzz\")\n",
        "    else:\n",
        "      print(\"fizzbuzz\")\n",
        "# wrong option"
      ],
      "metadata": {
        "id": "AaW2wq7F4aMp"
      },
      "execution_count": null,
      "outputs": []
    },
    {
      "cell_type": "code",
      "source": [
        "# solution 02\n",
        "for i in range(100):\n",
        "  if i%10==0:\n",
        "    print(i)\n",
        "# all number from 0 to 99 which are divisible by 10"
      ],
      "metadata": {
        "colab": {
          "base_uri": "https://localhost:8080/"
        },
        "id": "7YZ5qkq_41My",
        "outputId": "e6588b07-5d94-4604-b3d2-9e8f81ea01f1"
      },
      "execution_count": null,
      "outputs": [
        {
          "output_type": "stream",
          "name": "stdout",
          "text": [
            "0\n",
            "10\n",
            "20\n",
            "30\n",
            "40\n",
            "50\n",
            "60\n",
            "70\n",
            "80\n",
            "90\n"
          ]
        }
      ]
    },
    {
      "cell_type": "code",
      "source": [
        "# solution 03\n",
        "# list1=[\"hi\",\"we\",\"are\",\"the\",\"elements\",\"in\",\"a\",\"list\"]\n",
        "# for i in list1:\n",
        "#   print(list1[i])"
      ],
      "metadata": {
        "colab": {
          "base_uri": "https://localhost:8080/",
          "height": 106
        },
        "id": "8r3oKeZq5ZTK",
        "outputId": "5cdb7440-33ed-47af-cebb-114e453ce1e4"
      },
      "execution_count": null,
      "outputs": [
        {
          "output_type": "error",
          "ename": "SyntaxError",
          "evalue": "invalid syntax (<ipython-input-24-ab29173df8ed>, line 1)",
          "traceback": [
            "\u001b[0;36m  File \u001b[0;32m\"<ipython-input-24-ab29173df8ed>\"\u001b[0;36m, line \u001b[0;32m1\u001b[0m\n\u001b[0;31m    list1=[\"hi\",\"we\".\"are\",\"the\",\"elements\",\"in\",\"a\",\"list\"]\u001b[0m\n\u001b[0m                     ^\u001b[0m\n\u001b[0;31mSyntaxError\u001b[0m\u001b[0;31m:\u001b[0m invalid syntax\n"
          ]
        }
      ]
    },
    {
      "cell_type": "code",
      "source": [
        "# solution 04\n",
        "list1=[\"hi\",\"we\",\"are\",\"the\",\"elements\",\"in\",\"a\",\"list\"]\n",
        "for i in range(4):\n",
        "  print(list1[i])"
      ],
      "metadata": {
        "colab": {
          "base_uri": "https://localhost:8080/"
        },
        "id": "s66oBfxA6Ero",
        "outputId": "e1cf7199-f93d-4996-93c9-974a53d8648d"
      },
      "execution_count": null,
      "outputs": [
        {
          "output_type": "stream",
          "name": "stdout",
          "text": [
            "hi\n",
            "we\n",
            "are\n",
            "the\n"
          ]
        }
      ]
    },
    {
      "cell_type": "code",
      "source": [
        "# solution 05\n",
        "def add(a, b):\n",
        "  print(a+b)\n",
        "add(2, 3)"
      ],
      "metadata": {
        "colab": {
          "base_uri": "https://localhost:8080/"
        },
        "id": "bDre227d6WK0",
        "outputId": "de42307e-247d-46a4-f51d-0537276c123a"
      },
      "execution_count": null,
      "outputs": [
        {
          "output_type": "stream",
          "name": "stdout",
          "text": [
            "5\n"
          ]
        }
      ]
    },
    {
      "cell_type": "code",
      "source": [
        "# solution 06\n",
        "import random\n",
        "word=\"lion\"\n",
        "\"\".join(random.sample(word,len(word)))"
      ],
      "metadata": {
        "colab": {
          "base_uri": "https://localhost:8080/",
          "height": 36
        },
        "id": "SITKC-YS7vcf",
        "outputId": "e0bdedf2-9861-458e-c3fa-76646a2f3fc2"
      },
      "execution_count": null,
      "outputs": [
        {
          "output_type": "execute_result",
          "data": {
            "text/plain": [
              "'ioln'"
            ],
            "application/vnd.google.colaboratory.intrinsic+json": {
              "type": "string"
            }
          },
          "metadata": {},
          "execution_count": 29
        }
      ]
    },
    {
      "cell_type": "code",
      "source": [
        "\n",
        "import random\n",
        "word=input(\"Enter a word in which no letter is repeated\")\n",
        "l=[]\n",
        "total=1\n",
        "for i in range(1,len(word)+1):\n",
        "  total=total*i\n",
        "while(len(l)<total):\n",
        "  j=\"\".join(random.sample(word,len(word)))\n",
        "  l.append(j)\n",
        "for each in l:\n",
        "  print(each)\n",
        "#  shows some jumbled forms of the word where some forms might be repeated as well"
      ],
      "metadata": {
        "id": "s4Q6bnm4-ehi"
      },
      "execution_count": null,
      "outputs": []
    },
    {
      "cell_type": "code",
      "source": [
        "# # Assuming, there is no file named \"file.txt\" on my computer,\n",
        "# with open (\"file.txt\",\"w\") as f:\n",
        "#     print(f.read())\n",
        "#   f.write(\"Hey ! i am writing\");\n",
        "# f.close()\n",
        "# # error"
      ],
      "metadata": {
        "colab": {
          "base_uri": "https://localhost:8080/",
          "height": 106
        },
        "id": "GNprhwRWAymi",
        "outputId": "337a47f1-94e0-4f46-c83f-872e8df7e868"
      },
      "execution_count": null,
      "outputs": [
        {
          "output_type": "error",
          "ename": "IndentationError",
          "evalue": "unindent does not match any outer indentation level (<tokenize>, line 4)",
          "traceback": [
            "\u001b[0;36m  File \u001b[0;32m\"<tokenize>\"\u001b[0;36m, line \u001b[0;32m4\u001b[0m\n\u001b[0;31m    f.write(\"Hey ! i am writing\");\u001b[0m\n\u001b[0m    ^\u001b[0m\n\u001b[0;31mIndentationError\u001b[0m\u001b[0;31m:\u001b[0m unindent does not match any outer indentation level\n"
          ]
        }
      ]
    },
    {
      "cell_type": "code",
      "source": [
        "# solution 9\n",
        "# Assuming, there is no file named \"file.txt\" on my computer,\n",
        "with open(\"fi.text\",\"w\") as f:\n",
        "  f.write(\"Hey ! i am writing.\");\n",
        "f.close()\n",
        "\n",
        "with open(\"fi.text\",\"w\") as f:\n",
        "  f.write(\"Hey i am writing the second line.\");\n",
        "f.close()\n",
        "\n",
        "with open(\"fi.text\",\"r\") as f:\n",
        "  print(f.read())\n",
        "f.close()\n"
      ],
      "metadata": {
        "colab": {
          "base_uri": "https://localhost:8080/"
        },
        "id": "2sj-Gj_sDRko",
        "outputId": "0ce9f097-4bab-48ea-b901-e44008958e1f"
      },
      "execution_count": null,
      "outputs": [
        {
          "output_type": "stream",
          "name": "stdout",
          "text": [
            "Hey i am writing the second line.\n"
          ]
        }
      ]
    },
    {
      "cell_type": "code",
      "source": [
        "# Solution 10\n",
        "with open(\"f.txt\",\"w\") as myfile:\n",
        "  myfile.write(\"0110\");\n",
        "myfile.close()\n",
        "\n",
        "with open(\"f.txt\",\"r\") as myfile:\n",
        "  l=list(myfile.read());\n",
        "  suml=0\n",
        "  for each in l:\n",
        "    suml=suml+int(each)\n",
        "  print(suml)\n",
        "myfile.close()"
      ],
      "metadata": {
        "colab": {
          "base_uri": "https://localhost:8080/"
        },
        "id": "6xIihRsfFN1V",
        "outputId": "69ea32fa-4146-4170-b5a4-b509e4da8fc9"
      },
      "execution_count": null,
      "outputs": [
        {
          "output_type": "stream",
          "name": "stdout",
          "text": [
            "2\n"
          ]
        }
      ]
    }
  ]
}