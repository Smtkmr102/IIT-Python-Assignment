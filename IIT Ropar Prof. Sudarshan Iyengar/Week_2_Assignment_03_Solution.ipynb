{
  "nbformat": 4,
  "nbformat_minor": 0,
  "metadata": {
    "colab": {
      "provenance": []
    },
    "kernelspec": {
      "name": "python3",
      "display_name": "Python 3"
    },
    "language_info": {
      "name": "python"
    }
  },
  "cells": [
    {
      "cell_type": "markdown",
      "source": [
        "**Week 2 Assignment 03**"
      ],
      "metadata": {
        "id": "se-11KJwyepj"
      }
    },
    {
      "cell_type": "code",
      "source": [
        "x,y=input().split(\" \")\n",
        "x=int(x)\n",
        "y=int(y)\n",
        "print(x+y)"
      ],
      "metadata": {
        "colab": {
          "base_uri": "https://localhost:8080/"
        },
        "id": "8B3IUTuVyZQu",
        "outputId": "0f1c75a0-2233-4a45-bc18-b5d6d7542361"
      },
      "execution_count": null,
      "outputs": [
        {
          "output_type": "stream",
          "name": "stdout",
          "text": [
            "2 3\n",
            "5\n"
          ]
        }
      ]
    }
  ]
}