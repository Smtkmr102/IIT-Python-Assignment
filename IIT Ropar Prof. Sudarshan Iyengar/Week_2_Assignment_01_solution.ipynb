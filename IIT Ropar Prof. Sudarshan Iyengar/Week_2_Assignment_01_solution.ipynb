{
  "nbformat": 4,
  "nbformat_minor": 0,
  "metadata": {
    "colab": {
      "provenance": []
    },
    "kernelspec": {
      "name": "python3",
      "display_name": "Python 3"
    },
    "language_info": {
      "name": "python"
    }
  },
  "cells": [
    {
      "cell_type": "markdown",
      "source": [
        "**Week 2 Assignment 01**"
      ],
      "metadata": {
        "id": "aFDC-mgQ397F"
      }
    },
    {
      "cell_type": "code",
      "execution_count": null,
      "metadata": {
        "colab": {
          "base_uri": "https://localhost:8080/"
        },
        "id": "lCBBn5_N3aWu",
        "outputId": "2111f64e-8f3b-4ba0-ccd0-9743e23974f9"
      },
      "outputs": [
        {
          "output_type": "stream",
          "name": "stdout",
          "text": [
            "Hurry Up!!\n"
          ]
        }
      ],
      "source": [
        "# Solution 01\n",
        "print(\"Hurry Up!!\")"
      ]
    },
    {
      "cell_type": "code",
      "source": [
        "# Solution 02\n",
        "a=\"Hi\"\n",
        "b=\"Arjuna\"\n",
        "c=\"Bhimaa\"\n",
        "print(\"Hi\",a, b, c)"
      ],
      "metadata": {
        "colab": {
          "base_uri": "https://localhost:8080/"
        },
        "id": "4SiCmdO74ERW",
        "outputId": "c1001774-3db5-471f-9df8-c73cb901e00c"
      },
      "execution_count": null,
      "outputs": [
        {
          "output_type": "stream",
          "name": "stdout",
          "text": [
            "Hi Hi Arjuna Bhimaa\n"
          ]
        }
      ]
    },
    {
      "cell_type": "code",
      "source": [
        "# solution 3\n",
        "# prompt: extension of python files sabed\n",
        "\n",
        "# Save Python files with a specific extension\n",
        "def save_python_files(file_names, extension):\n",
        "  for file_name in file_names:\n",
        "    with open(file_name + extension, \"w\") as f:\n",
        "      f.write(\"Code goes here...\")\n",
        "\n",
        "# Example usage:\n",
        "file_names = [\"file1\", \"file2\", \"file3\"]\n",
        "extension = \".py\"\n",
        "save_python_files(file_names, extension)\n"
      ],
      "metadata": {
        "id": "iQEPtlBnmXGD"
      },
      "execution_count": null,
      "outputs": []
    },
    {
      "cell_type": "code",
      "source": [
        "# solution 4\n",
        "a=input(\"Enter the value\")"
      ],
      "metadata": {
        "id": "R1xgm-ml5fjk",
        "colab": {
          "base_uri": "https://localhost:8080/"
        },
        "outputId": "e44c8ef2-224c-4207-b315-8ba60f618a7d"
      },
      "execution_count": 1,
      "outputs": [
        {
          "name": "stdout",
          "output_type": "stream",
          "text": [
            "Enter the value5\n"
          ]
        }
      ]
    },
    {
      "cell_type": "code",
      "source": [
        "# solution 5\n",
        "d=-20\n",
        "if (d>0)\n",
        "  print(d)\n",
        "if (d<0):\n",
        "  print(-1*d)"
      ],
      "metadata": {
        "colab": {
          "base_uri": "https://localhost:8080/",
          "height": 106
        },
        "id": "l3zoKrSQm4lR",
        "outputId": "c8a65b21-b72a-4350-8149-3d1090e81c86"
      },
      "execution_count": 3,
      "outputs": [
        {
          "output_type": "error",
          "ename": "SyntaxError",
          "evalue": "expected ':' (<ipython-input-3-9eb7f3436368>, line 3)",
          "traceback": [
            "\u001b[0;36m  File \u001b[0;32m\"<ipython-input-3-9eb7f3436368>\"\u001b[0;36m, line \u001b[0;32m3\u001b[0m\n\u001b[0;31m    if (d>0)\u001b[0m\n\u001b[0m            ^\u001b[0m\n\u001b[0;31mSyntaxError\u001b[0m\u001b[0;31m:\u001b[0m expected ':'\n"
          ]
        }
      ]
    },
    {
      "cell_type": "code",
      "source": [
        "# solution 6\n",
        "for i in range(5):\n",
        "  print(i)"
      ],
      "metadata": {
        "colab": {
          "base_uri": "https://localhost:8080/"
        },
        "id": "4NeUPhy4nOjM",
        "outputId": "25b33c7e-e60a-43df-9907-c9d5daefc479"
      },
      "execution_count": 4,
      "outputs": [
        {
          "output_type": "stream",
          "name": "stdout",
          "text": [
            "0\n",
            "1\n",
            "2\n",
            "3\n",
            "4\n"
          ]
        }
      ]
    },
    {
      "cell_type": "code",
      "source": [
        "# solution 7\n",
        "for i in range(10):\n",
        "  print(\"2*\",(i),\"=\",2*(i+1))"
      ],
      "metadata": {
        "colab": {
          "base_uri": "https://localhost:8080/"
        },
        "id": "deE45KA0necm",
        "outputId": "4fd6d2c6-7f73-43c3-942d-84fef6f2e9c1"
      },
      "execution_count": 5,
      "outputs": [
        {
          "output_type": "stream",
          "name": "stdout",
          "text": [
            "2* 0 = 2\n",
            "2* 1 = 4\n",
            "2* 2 = 6\n",
            "2* 3 = 8\n",
            "2* 4 = 10\n",
            "2* 5 = 12\n",
            "2* 6 = 14\n",
            "2* 7 = 16\n",
            "2* 8 = 18\n",
            "2* 9 = 20\n"
          ]
        }
      ]
    },
    {
      "cell_type": "code",
      "source": [
        "# solution 8\n",
        "a=1\n",
        "for i in range(5):\n",
        "  a=a*(i+1)\n",
        "print(a)"
      ],
      "metadata": {
        "colab": {
          "base_uri": "https://localhost:8080/"
        },
        "id": "GcCQDhiIoNdx",
        "outputId": "962a2fdd-7902-4f35-a924-ad15cb0330db"
      },
      "execution_count": 6,
      "outputs": [
        {
          "output_type": "stream",
          "name": "stdout",
          "text": [
            "120\n"
          ]
        }
      ]
    },
    {
      "cell_type": "code",
      "source": [
        "# solution 9\n",
        "d=5\n",
        "while (d>1):\n",
        "  d=d-1\n",
        "  print(d)"
      ],
      "metadata": {
        "colab": {
          "base_uri": "https://localhost:8080/"
        },
        "id": "y9ViRYofojHm",
        "outputId": "81426e67-cb2a-484f-829a-c411cf2d3fe0"
      },
      "execution_count": 7,
      "outputs": [
        {
          "output_type": "stream",
          "name": "stdout",
          "text": [
            "4\n",
            "3\n",
            "2\n",
            "1\n"
          ]
        }
      ]
    },
    {
      "cell_type": "code",
      "source": [
        "# solution 10\n",
        "d=\"a\"\n",
        "for i in range(2):\n",
        "  d=d+1\n",
        "  print(d)"
      ],
      "metadata": {
        "colab": {
          "base_uri": "https://localhost:8080/",
          "height": 193
        },
        "id": "MbWy0c-movsv",
        "outputId": "d4d37c87-bde9-4f66-e72c-1550c9113709"
      },
      "execution_count": 8,
      "outputs": [
        {
          "output_type": "error",
          "ename": "TypeError",
          "evalue": "can only concatenate str (not \"int\") to str",
          "traceback": [
            "\u001b[0;31m---------------------------------------------------------------------------\u001b[0m",
            "\u001b[0;31mTypeError\u001b[0m                                 Traceback (most recent call last)",
            "\u001b[0;32m<ipython-input-8-e46116bd0a1f>\u001b[0m in \u001b[0;36m<cell line: 2>\u001b[0;34m()\u001b[0m\n\u001b[1;32m      1\u001b[0m \u001b[0md\u001b[0m\u001b[0;34m=\u001b[0m\u001b[0;34m\"a\"\u001b[0m\u001b[0;34m\u001b[0m\u001b[0;34m\u001b[0m\u001b[0m\n\u001b[1;32m      2\u001b[0m \u001b[0;32mfor\u001b[0m \u001b[0mi\u001b[0m \u001b[0;32min\u001b[0m \u001b[0mrange\u001b[0m\u001b[0;34m(\u001b[0m\u001b[0;36m2\u001b[0m\u001b[0;34m)\u001b[0m\u001b[0;34m:\u001b[0m\u001b[0;34m\u001b[0m\u001b[0;34m\u001b[0m\u001b[0m\n\u001b[0;32m----> 3\u001b[0;31m   \u001b[0md\u001b[0m\u001b[0;34m=\u001b[0m\u001b[0md\u001b[0m\u001b[0;34m+\u001b[0m\u001b[0;36m1\u001b[0m\u001b[0;34m\u001b[0m\u001b[0;34m\u001b[0m\u001b[0m\n\u001b[0m\u001b[1;32m      4\u001b[0m   \u001b[0mprint\u001b[0m\u001b[0;34m(\u001b[0m\u001b[0md\u001b[0m\u001b[0;34m)\u001b[0m\u001b[0;34m\u001b[0m\u001b[0;34m\u001b[0m\u001b[0m\n",
            "\u001b[0;31mTypeError\u001b[0m: can only concatenate str (not \"int\") to str"
          ]
        }
      ]
    }
  ]
}