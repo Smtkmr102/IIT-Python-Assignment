{
  "nbformat": 4,
  "nbformat_minor": 0,
  "metadata": {
    "colab": {
      "provenance": []
    },
    "kernelspec": {
      "name": "python3",
      "display_name": "Python 3"
    },
    "language_info": {
      "name": "python"
    }
  },
  "cells": [
    {
      "cell_type": "code",
      "execution_count": 3,
      "metadata": {
        "colab": {
          "base_uri": "https://localhost:8080/"
        },
        "id": "gh6uayLym8dr",
        "outputId": "7d330cd8-9437-45d2-af98-c1ea1e5a35ae"
      },
      "outputs": [
        {
          "output_type": "execute_result",
          "data": {
            "text/plain": [
              "array([1, 2, 3, 3, 5])"
            ]
          },
          "metadata": {},
          "execution_count": 3
        }
      ],
      "source": [
        "# Solution1\n",
        "import numpy as np\n",
        "x=np.array([1,2,3])\n",
        "y=np.array([3,5])\n",
        "np.concatenate((x,y))"
      ]
    },
    {
      "cell_type": "code",
      "source": [
        "# solution2\n",
        "np.arange(5)"
      ],
      "metadata": {
        "colab": {
          "base_uri": "https://localhost:8080/"
        },
        "id": "pcAU5hnWnYFg",
        "outputId": "caef813d-22c8-413b-f50a-d4fcaa604eb5"
      },
      "execution_count": 4,
      "outputs": [
        {
          "output_type": "execute_result",
          "data": {
            "text/plain": [
              "array([0, 1, 2, 3, 4])"
            ]
          },
          "metadata": {},
          "execution_count": 4
        }
      ]
    },
    {
      "cell_type": "code",
      "source": [
        "# solution3\n",
        "x=np.array([[1,2],[6,7]])\n",
        "print(x[1,-1])"
      ],
      "metadata": {
        "colab": {
          "base_uri": "https://localhost:8080/"
        },
        "id": "cydzBklmnsin",
        "outputId": "2bb9ec39-f254-4f0d-deea-922a4d32377d"
      },
      "execution_count": 5,
      "outputs": [
        {
          "output_type": "stream",
          "name": "stdout",
          "text": [
            "7\n"
          ]
        }
      ]
    },
    {
      "cell_type": "code",
      "source": [
        "# prompt: Choose the correct data types for x and y. x= input(\"Enter the value of x=\") y = float(input(\"Enter the value of y =\"))\n",
        "# Solution 4\n",
        "x = str(input(\"Enter the value of x=\"))\n",
        "y = float(input(\"Enter the value of y =\"))"
      ],
      "metadata": {
        "id": "pDuQTp39pum9"
      },
      "execution_count": null,
      "outputs": []
    },
    {
      "cell_type": "code",
      "source": [
        "# Solution5\n",
        "x = [100, 15, 9, 5, 4, 3, 1]\n",
        "print(x[-1:1:-2])"
      ],
      "metadata": {
        "colab": {
          "base_uri": "https://localhost:8080/"
        },
        "id": "hPyYdQYvp5Pt",
        "outputId": "97cd1c8f-3a18-404b-dfca-16868216f584"
      },
      "execution_count": 9,
      "outputs": [
        {
          "output_type": "stream",
          "name": "stdout",
          "text": [
            "[1, 4, 9]\n"
          ]
        }
      ]
    },
    {
      "cell_type": "code",
      "source": [
        "# prompt: explain int(\"1110\",2)\n",
        "\n",
        "int(\"1110\",2) == 14\n",
        "\n",
        "The function `int` converts a string to an integer. The second argument specifies the base of the number system. In this case, the base is 2, which means that the string represents a binary number.\n",
        "\n",
        "The binary number 1110 is equivalent to the decimal number 14. This can be seen by expanding the binary number:\n",
        "\n"
      ],
      "metadata": {
        "id": "Wq6PHHpPoWcP"
      },
      "execution_count": null,
      "outputs": []
    },
    {
      "cell_type": "code",
      "source": [
        "# solution6\n",
        "int(\"1110\",2)"
      ],
      "metadata": {
        "colab": {
          "base_uri": "https://localhost:8080/"
        },
        "id": "TyKsuAwFoAYk",
        "outputId": "3c80a426-b934-4979-f24e-b72e06a92f2b"
      },
      "execution_count": 8,
      "outputs": [
        {
          "output_type": "execute_result",
          "data": {
            "text/plain": [
              "14"
            ]
          },
          "metadata": {},
          "execution_count": 8
        }
      ]
    },
    {
      "cell_type": "code",
      "source": [
        "# prompt: explain In a 32 bit machine, the largest integer number is,\n",
        "# solution 7\n",
        "In a 32-bit machine, the largest integer number is 2^31 - 1, which is equal to 2,147,483,647.\n",
        "This is because the largest integer number that can be represented in a 32-bit machine is one less than the power of 2 that is equal to 32.\n",
        "\n"
      ],
      "metadata": {
        "id": "TBXzX7kkofxP"
      },
      "execution_count": null,
      "outputs": []
    },
    {
      "cell_type": "code",
      "source": [
        "# prompt: explain properly In computer -3 is stored as\n",
        "# Solution 8\n",
        "In a computer, -3 is stored as a 2's complement number.\n",
        "\n",
        "A 2's complement number is a way of representing negative numbers in binary.\n",
        "\n",
        "To convert a positive number to its 2's complement, we first write its binary representation.\n",
        "\n",
        "Then, we invert all the bits (0 becomes 1 and 1 becomes 0) and add 1.\n",
        "\n",
        "For example, the binary representation of 3 is 11.\n",
        "\n",
        "To find the 2's complement of 3, we invert all the bits (11 becomes 00) and add 1 (00 becomes 01).\n",
        "\n",
        "Therefore, -3 is stored as 01 in a computer.\n",
        "\n",
        "Here is a more detailed explanation of how 2's complement works:\n",
        "\n",
        "- **Step 1:** Write the binary representation of the positive number.\n",
        "\n",
        "For example, the binary representation of 3 is 11.\n",
        "\n",
        "- **Step 2:** Invert all the bits.\n",
        "\n",
        "For example, the binary representation of -3 is 00.\n",
        "\n",
        "- **Step 3:** Add 1.\n",
        "\n",
        "For example, the binary representation of -3 is 01.\n",
        "\n",
        "Therefore, -3 is stored as 01 in a computer.\n",
        "\n",
        "2's complement is a very efficient way to represent negative numbers in binary.\n",
        "\n",
        "It allows us to perform arithmetic operations on negative numbers in the same way that we perform arithmetic operations on positive numbers.\n"
      ],
      "metadata": {
        "id": "Xzv1EUxsqkvj"
      },
      "execution_count": null,
      "outputs": []
    },
    {
      "cell_type": "code",
      "source": [
        "# Solution 9\n",
        "# prompt: The memory requirements for three-dimensional integer array of size 10^3 x 10^3 x 10^3 is\n",
        "# The size of an integer in bytes\n",
        "sizeof_int = 4\n",
        "# The number of elements in the array\n",
        "num_elements = 10**3 * 10**3 * 10**3\n",
        "# The memory requirements in bytes\n",
        "memory_requirements = sizeof_int * num_elements\n",
        "# Convert bytes to gigabytes\n",
        "memory_requirements_gb = memory_requirements / 1024**3\n",
        "print(f\"Memory requirements: {memory_requirements_gb:.2f} GB\")"
      ],
      "metadata": {
        "colab": {
          "base_uri": "https://localhost:8080/"
        },
        "id": "4zg2d_1zwSy-",
        "outputId": "ab5cd3f1-ffa3-4c17-bce7-d9e963999006"
      },
      "execution_count": 12,
      "outputs": [
        {
          "output_type": "stream",
          "name": "stdout",
          "text": [
            "Memory requirements: 3.73 GB\n"
          ]
        }
      ]
    },
    {
      "cell_type": "code",
      "source": [
        "# Soltion 10\n",
        "import math\n",
        "def max_n_for_ram(ram_size_gb):\n",
        "    # Size of double data type in bytes\n",
        "    size_of_double = 8\n",
        "\n",
        "    # Total available RAM in bytes\n",
        "    total_ram_bytes = ram_size_gb * (1024 ** 3)\n",
        "\n",
        "    # Number of matrices\n",
        "    num_matrices = 3\n",
        "\n",
        "    # Calculate maximum N\n",
        "    max_n_squared = total_ram_bytes / (num_matrices * size_of_double)\n",
        "    max_n = int(math.sqrt(max_n_squared))\n",
        "\n",
        "    return max_n\n",
        "\n",
        "# Set the available RAM size (in GB)\n",
        "ram_size_gb = 4\n",
        "\n",
        "# Calculate and print the maximum value of N\n",
        "max_n = max_n_for_ram(ram_size_gb)\n",
        "print(f\"The maximum value of N that fits in {ram_size_gb}GB RAM is approximately {max_n}.\")"
      ],
      "metadata": {
        "colab": {
          "base_uri": "https://localhost:8080/"
        },
        "id": "Apinl1zXx288",
        "outputId": "a8427316-18cd-42a4-bda5-7a28f26afe3b"
      },
      "execution_count": 18,
      "outputs": [
        {
          "output_type": "stream",
          "name": "stdout",
          "text": [
            "The maximum value of N that fits in 4GB RAM is approximately 13377.\n"
          ]
        }
      ]
    }
  ]
}